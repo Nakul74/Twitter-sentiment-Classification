{
 "cells": [
  {
   "cell_type": "code",
   "execution_count": 1,
   "id": "6f7120de",
   "metadata": {},
   "outputs": [],
   "source": [
    "import emoji\n",
    "import contractions\n",
    "import string\n",
    "from nltk.corpus import stopwords\n",
    "import spacy\n",
    "import re\n",
    "from joblib import load\n",
    "import numpy as np"
   ]
  },
  {
   "cell_type": "code",
   "execution_count": 2,
   "id": "62efff74",
   "metadata": {},
   "outputs": [],
   "source": [
    "def replace_retweet(tweet, default_replace=\"\"):\n",
    "    tweet = re.sub('RT\\s+', default_replace, tweet)\n",
    "    return tweet\n",
    "\n",
    "def replace_user(tweet, default_replace=\"twitteruser\"):\n",
    "    tweet = re.sub('\\B@\\w+', default_replace, tweet)\n",
    "    return tweet\n",
    "\n",
    "def demojize(tweet):\n",
    "    tweet = emoji.demojize(tweet)\n",
    "    return tweet\n",
    "\n",
    "def replace_url(tweet, default_replace=\"\"):\n",
    "    tweet = re.sub('(http|https):\\/\\/\\S+', default_replace, tweet)\n",
    "    return tweet\n",
    "\n",
    "def replace_hashtag(tweet, default_replace=\"\"):\n",
    "    tweet = re.sub('#+', default_replace, tweet)\n",
    "    return tweet\n",
    "\n",
    "def to_lowercase(tweet):\n",
    "    tweet = tweet.lower()\n",
    "    return tweet\n",
    "\n",
    "def word_repetition(tweet):\n",
    "    tweet = re.sub(r'(.)\\1+', r'\\1\\1', tweet)\n",
    "    return tweet\n",
    "\n",
    "def punct_repetition(tweet, default_replace=\"\"):\n",
    "    tweet = re.sub(r'[\\?\\.\\!]+(?=[\\?\\.\\!])', default_replace, tweet)\n",
    "    return tweet\n",
    "\n",
    "def fix_contractions(tweet):\n",
    "    tweet = contractions.fix(tweet)\n",
    "    return tweet"
   ]
  },
  {
   "cell_type": "code",
   "execution_count": 3,
   "id": "0371d745",
   "metadata": {},
   "outputs": [],
   "source": [
    "stop_words = set(stopwords.words('english'))\n",
    "stop_words.discard('not')\n",
    "\n",
    "nlp = spacy.load('en_core_web_sm')\n",
    "\n",
    "def process(sent):\n",
    "    d = nlp(sent)\n",
    "    tokens=[]\n",
    "    \n",
    "    for i in d:\n",
    "        if i.lemma_ != '-PRON-':\n",
    "            tokens.append(i.lemma_)\n",
    "    tokens = [tok for tok in tokens if tok not in stop_words]\n",
    "    tokens = [tok for tok in tokens if tok not in string.punctuation]\n",
    "\n",
    "    tokens = ' '.join(tokens)\n",
    "    return tokens\n",
    "\n",
    "useless_words = load('words.joblib')\n",
    "def remove_words(d):\n",
    "    d = d.split()\n",
    "    tokens = [tok for tok in d if tok not in useless_words]\n",
    "    tokens = ' '.join(tokens)\n",
    "    return tokens"
   ]
  },
  {
   "cell_type": "code",
   "execution_count": 4,
   "id": "07c1b29a",
   "metadata": {},
   "outputs": [],
   "source": [
    "def preprocess_text(sent):\n",
    "    tweet = replace_retweet(sent, default_replace=\"\")\n",
    "    tweet = replace_user(tweet, default_replace=\"twitteruser\")\n",
    "    tweet = demojize(tweet)\n",
    "    tweet = replace_url(tweet, default_replace=\"\")\n",
    "    tweet = replace_hashtag(tweet, default_replace=\"\")\n",
    "    tweet = to_lowercase(tweet)\n",
    "    tweet = word_repetition(tweet)\n",
    "    tweet = punct_repetition(tweet, default_replace=\"\")\n",
    "    tweet = fix_contractions(tweet)\n",
    "    tweet = process(tweet)\n",
    "    tweet = remove_words(tweet)\n",
    "    \n",
    "    return tweet"
   ]
  },
  {
   "cell_type": "code",
   "execution_count": 5,
   "id": "6a579bb7",
   "metadata": {},
   "outputs": [],
   "source": [
    "def predict(arr):\n",
    "    arr = preprocess_text(arr)\n",
    "    vec = load('vec.joblib') \n",
    "    bagging = load('logreg.joblib')\n",
    "    \n",
    "    arr = np.array([arr])\n",
    "    vect = vec.transform(arr)\n",
    "    \n",
    "    return bagging.predict(vect)"
   ]
  },
  {
   "cell_type": "code",
   "execution_count": 6,
   "id": "a887b76b",
   "metadata": {},
   "outputs": [
    {
     "name": "stdout",
     "output_type": "stream",
     "text": [
      "Enter the sentiment :@ginidietrich Weather reports of a week of upper 60s make me happy  Perfect running weather!\n",
      "[1]\n"
     ]
    }
   ],
   "source": [
    "s = input('Enter the sentiment :')\n",
    "prediction = predict(s)\n",
    "\n",
    "print(prediction)"
   ]
  },
  {
   "cell_type": "code",
   "execution_count": 7,
   "id": "4e3af322",
   "metadata": {},
   "outputs": [
    {
     "name": "stdout",
     "output_type": "stream",
     "text": [
      "Enter the sentiment :stupid playstation! stupid controllers don't work so I can't play kingdom hearts\n",
      "[0]\n"
     ]
    }
   ],
   "source": [
    "s = input('Enter the sentiment :')\n",
    "prediction = predict(s)\n",
    "\n",
    "print(prediction)"
   ]
  },
  {
   "cell_type": "markdown",
   "id": "d662abe1",
   "metadata": {},
   "source": [
    "#### Testing with pywebio"
   ]
  },
  {
   "cell_type": "code",
   "execution_count": 6,
   "id": "169ccb77",
   "metadata": {},
   "outputs": [],
   "source": [
    "from pywebio.input import input,TEXT\n",
    "from pywebio.output import put_text"
   ]
  },
  {
   "cell_type": "code",
   "execution_count": 7,
   "id": "e22e0635",
   "metadata": {},
   "outputs": [],
   "source": [
    "def predict_review():\n",
    "    s = input(\"Enter the review：\", type = TEXT)\n",
    "    prediction = predict(s)\n",
    "    \n",
    "    if prediction == 0:\n",
    "        review = 'Negative'\n",
    "    elif prediction == 1:\n",
    "        review = 'Positive'\n",
    "        \n",
    "    put_text('Sentiment is : ',review)"
   ]
  },
  {
   "cell_type": "code",
   "execution_count": null,
   "id": "22945204",
   "metadata": {},
   "outputs": [],
   "source": [
    "predict_review()"
   ]
  },
  {
   "cell_type": "code",
   "execution_count": null,
   "id": "c77a718f",
   "metadata": {},
   "outputs": [],
   "source": []
  }
 ],
 "metadata": {
  "kernelspec": {
   "display_name": "Python 3",
   "language": "python",
   "name": "python3"
  },
  "language_info": {
   "codemirror_mode": {
    "name": "ipython",
    "version": 3
   },
   "file_extension": ".py",
   "mimetype": "text/x-python",
   "name": "python",
   "nbconvert_exporter": "python",
   "pygments_lexer": "ipython3",
   "version": "3.7.7"
  }
 },
 "nbformat": 4,
 "nbformat_minor": 5
}
